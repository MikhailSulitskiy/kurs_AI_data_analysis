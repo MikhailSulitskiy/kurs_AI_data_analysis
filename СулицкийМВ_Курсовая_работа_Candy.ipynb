{
  "nbformat": 4,
  "nbformat_minor": 0,
  "metadata": {
    "colab": {
      "name": "СулицкийМВ_Курсовая работа_Candy.ipynb",
      "provenance": [],
      "toc_visible": true
    },
    "kernelspec": {
      "name": "python3",
      "display_name": "Python 3"
    }
  },
  "cells": [
    {
      "cell_type": "code",
      "metadata": {
        "id": "_XhBtSD8bH89"
      },
      "source": [
        "import numpy as np\n",
        "import pandas as pd \n",
        "import statsmodels.api as sm\n",
        "import statsmodels.formula.api as smf\n",
        "import seaborn as sns\n",
        "from sklearn.preprocessing import scale \n",
        "from sklearn.model_selection import train_test_split, GridSearchCV, cross_val_score\n",
        "from sklearn.metrics import confusion_matrix, accuracy_score, classification_report\n",
        "from sklearn.metrics import roc_auc_score,roc_curve\n",
        "import matplotlib.pyplot as plt\n",
        "from sklearn.neighbors import KNeighborsClassifier\n",
        "from sklearn.discriminant_analysis import LinearDiscriminantAnalysis\n",
        "from sklearn.linear_model import LogisticRegression\n",
        "from sklearn.svm import SVC\n",
        "from sklearn.naive_bayes import GaussianNB\n",
        "from sklearn import tree\n",
        "from sklearn.ensemble import RandomForestClassifier\n",
        "\n",
        "from warnings import filterwarnings\n",
        "filterwarnings('ignore')\n",
        "\n",
        "import os"
      ],
      "execution_count": null,
      "outputs": []
    },
    {
      "cell_type": "code",
      "metadata": {
        "id": "--s0qeq4GQKh"
      },
      "source": [
        "candy_data = pd.read_csv(\"/content/candy-data.csv\")"
      ],
      "execution_count": null,
      "outputs": []
    },
    {
      "cell_type": "code",
      "metadata": {
        "colab": {
          "base_uri": "https://localhost:8080/",
          "height": 131
        },
        "id": "sS7y0U4CkbX3",
        "outputId": "2e337f84-bfb8-4a3d-e66e-b322382d0f52"
      },
      "source": [
        "candy_data.head(2)"
      ],
      "execution_count": null,
      "outputs": [
        {
          "output_type": "execute_result",
          "data": {
            "text/html": [
              "<div>\n",
              "<style scoped>\n",
              "    .dataframe tbody tr th:only-of-type {\n",
              "        vertical-align: middle;\n",
              "    }\n",
              "\n",
              "    .dataframe tbody tr th {\n",
              "        vertical-align: top;\n",
              "    }\n",
              "\n",
              "    .dataframe thead th {\n",
              "        text-align: right;\n",
              "    }\n",
              "</style>\n",
              "<table border=\"1\" class=\"dataframe\">\n",
              "  <thead>\n",
              "    <tr style=\"text-align: right;\">\n",
              "      <th></th>\n",
              "      <th>competitorname</th>\n",
              "      <th>chocolate</th>\n",
              "      <th>fruity</th>\n",
              "      <th>caramel</th>\n",
              "      <th>peanutyalmondy</th>\n",
              "      <th>nougat</th>\n",
              "      <th>crispedricewafer</th>\n",
              "      <th>hard</th>\n",
              "      <th>bar</th>\n",
              "      <th>pluribus</th>\n",
              "      <th>sugarpercent</th>\n",
              "      <th>pricepercent</th>\n",
              "      <th>winpercent</th>\n",
              "    </tr>\n",
              "  </thead>\n",
              "  <tbody>\n",
              "    <tr>\n",
              "      <th>0</th>\n",
              "      <td>100 Grand</td>\n",
              "      <td>1</td>\n",
              "      <td>0</td>\n",
              "      <td>1</td>\n",
              "      <td>0</td>\n",
              "      <td>0</td>\n",
              "      <td>1</td>\n",
              "      <td>0</td>\n",
              "      <td>1</td>\n",
              "      <td>0</td>\n",
              "      <td>0.732</td>\n",
              "      <td>0.860</td>\n",
              "      <td>66.971725</td>\n",
              "    </tr>\n",
              "    <tr>\n",
              "      <th>1</th>\n",
              "      <td>3 Musketeers</td>\n",
              "      <td>1</td>\n",
              "      <td>0</td>\n",
              "      <td>0</td>\n",
              "      <td>0</td>\n",
              "      <td>1</td>\n",
              "      <td>0</td>\n",
              "      <td>0</td>\n",
              "      <td>1</td>\n",
              "      <td>0</td>\n",
              "      <td>0.604</td>\n",
              "      <td>0.511</td>\n",
              "      <td>67.602936</td>\n",
              "    </tr>\n",
              "  </tbody>\n",
              "</table>\n",
              "</div>"
            ],
            "text/plain": [
              "  competitorname  chocolate  fruity  ...  sugarpercent  pricepercent  winpercent\n",
              "0      100 Grand          1       0  ...         0.732         0.860   66.971725\n",
              "1   3 Musketeers          1       0  ...         0.604         0.511   67.602936\n",
              "\n",
              "[2 rows x 13 columns]"
            ]
          },
          "metadata": {
            "tags": []
          },
          "execution_count": 42
        }
      ]
    },
    {
      "cell_type": "code",
      "metadata": {
        "colab": {
          "base_uri": "https://localhost:8080/"
        },
        "id": "33ewhtjdkbU_",
        "outputId": "315e6995-4e2e-4074-8ca8-c704a3499f2d"
      },
      "source": [
        "candy_data.info()"
      ],
      "execution_count": null,
      "outputs": [
        {
          "output_type": "stream",
          "text": [
            "<class 'pandas.core.frame.DataFrame'>\n",
            "RangeIndex: 85 entries, 0 to 84\n",
            "Data columns (total 13 columns):\n",
            " #   Column            Non-Null Count  Dtype  \n",
            "---  ------            --------------  -----  \n",
            " 0   competitorname    85 non-null     object \n",
            " 1   chocolate         85 non-null     int64  \n",
            " 2   fruity            85 non-null     int64  \n",
            " 3   caramel           85 non-null     int64  \n",
            " 4   peanutyalmondy    85 non-null     int64  \n",
            " 5   nougat            85 non-null     int64  \n",
            " 6   crispedricewafer  85 non-null     int64  \n",
            " 7   hard              85 non-null     int64  \n",
            " 8   bar               85 non-null     int64  \n",
            " 9   pluribus          85 non-null     int64  \n",
            " 10  sugarpercent      85 non-null     float64\n",
            " 11  pricepercent      85 non-null     float64\n",
            " 12  winpercent        85 non-null     float64\n",
            "dtypes: float64(3), int64(9), object(1)\n",
            "memory usage: 8.8+ KB\n"
          ],
          "name": "stdout"
        }
      ]
    },
    {
      "cell_type": "code",
      "metadata": {
        "colab": {
          "base_uri": "https://localhost:8080/",
          "height": 421
        },
        "id": "RGvaXb9pkbRs",
        "outputId": "73f728ac-9994-480c-be1e-dec6306dbcdf"
      },
      "source": [
        "candy_data.describe().T"
      ],
      "execution_count": null,
      "outputs": [
        {
          "output_type": "execute_result",
          "data": {
            "text/html": [
              "<div>\n",
              "<style scoped>\n",
              "    .dataframe tbody tr th:only-of-type {\n",
              "        vertical-align: middle;\n",
              "    }\n",
              "\n",
              "    .dataframe tbody tr th {\n",
              "        vertical-align: top;\n",
              "    }\n",
              "\n",
              "    .dataframe thead th {\n",
              "        text-align: right;\n",
              "    }\n",
              "</style>\n",
              "<table border=\"1\" class=\"dataframe\">\n",
              "  <thead>\n",
              "    <tr style=\"text-align: right;\">\n",
              "      <th></th>\n",
              "      <th>count</th>\n",
              "      <th>mean</th>\n",
              "      <th>std</th>\n",
              "      <th>min</th>\n",
              "      <th>25%</th>\n",
              "      <th>50%</th>\n",
              "      <th>75%</th>\n",
              "      <th>max</th>\n",
              "    </tr>\n",
              "  </thead>\n",
              "  <tbody>\n",
              "    <tr>\n",
              "      <th>chocolate</th>\n",
              "      <td>85.0</td>\n",
              "      <td>0.435294</td>\n",
              "      <td>0.498738</td>\n",
              "      <td>0.000000</td>\n",
              "      <td>0.000000</td>\n",
              "      <td>0.000000</td>\n",
              "      <td>1.000000</td>\n",
              "      <td>1.00000</td>\n",
              "    </tr>\n",
              "    <tr>\n",
              "      <th>fruity</th>\n",
              "      <td>85.0</td>\n",
              "      <td>0.447059</td>\n",
              "      <td>0.500140</td>\n",
              "      <td>0.000000</td>\n",
              "      <td>0.000000</td>\n",
              "      <td>0.000000</td>\n",
              "      <td>1.000000</td>\n",
              "      <td>1.00000</td>\n",
              "    </tr>\n",
              "    <tr>\n",
              "      <th>caramel</th>\n",
              "      <td>85.0</td>\n",
              "      <td>0.164706</td>\n",
              "      <td>0.373116</td>\n",
              "      <td>0.000000</td>\n",
              "      <td>0.000000</td>\n",
              "      <td>0.000000</td>\n",
              "      <td>0.000000</td>\n",
              "      <td>1.00000</td>\n",
              "    </tr>\n",
              "    <tr>\n",
              "      <th>peanutyalmondy</th>\n",
              "      <td>85.0</td>\n",
              "      <td>0.164706</td>\n",
              "      <td>0.373116</td>\n",
              "      <td>0.000000</td>\n",
              "      <td>0.000000</td>\n",
              "      <td>0.000000</td>\n",
              "      <td>0.000000</td>\n",
              "      <td>1.00000</td>\n",
              "    </tr>\n",
              "    <tr>\n",
              "      <th>nougat</th>\n",
              "      <td>85.0</td>\n",
              "      <td>0.082353</td>\n",
              "      <td>0.276533</td>\n",
              "      <td>0.000000</td>\n",
              "      <td>0.000000</td>\n",
              "      <td>0.000000</td>\n",
              "      <td>0.000000</td>\n",
              "      <td>1.00000</td>\n",
              "    </tr>\n",
              "    <tr>\n",
              "      <th>crispedricewafer</th>\n",
              "      <td>85.0</td>\n",
              "      <td>0.082353</td>\n",
              "      <td>0.276533</td>\n",
              "      <td>0.000000</td>\n",
              "      <td>0.000000</td>\n",
              "      <td>0.000000</td>\n",
              "      <td>0.000000</td>\n",
              "      <td>1.00000</td>\n",
              "    </tr>\n",
              "    <tr>\n",
              "      <th>hard</th>\n",
              "      <td>85.0</td>\n",
              "      <td>0.176471</td>\n",
              "      <td>0.383482</td>\n",
              "      <td>0.000000</td>\n",
              "      <td>0.000000</td>\n",
              "      <td>0.000000</td>\n",
              "      <td>0.000000</td>\n",
              "      <td>1.00000</td>\n",
              "    </tr>\n",
              "    <tr>\n",
              "      <th>bar</th>\n",
              "      <td>85.0</td>\n",
              "      <td>0.247059</td>\n",
              "      <td>0.433861</td>\n",
              "      <td>0.000000</td>\n",
              "      <td>0.000000</td>\n",
              "      <td>0.000000</td>\n",
              "      <td>0.000000</td>\n",
              "      <td>1.00000</td>\n",
              "    </tr>\n",
              "    <tr>\n",
              "      <th>pluribus</th>\n",
              "      <td>85.0</td>\n",
              "      <td>0.517647</td>\n",
              "      <td>0.502654</td>\n",
              "      <td>0.000000</td>\n",
              "      <td>0.000000</td>\n",
              "      <td>1.000000</td>\n",
              "      <td>1.000000</td>\n",
              "      <td>1.00000</td>\n",
              "    </tr>\n",
              "    <tr>\n",
              "      <th>sugarpercent</th>\n",
              "      <td>85.0</td>\n",
              "      <td>0.478647</td>\n",
              "      <td>0.282778</td>\n",
              "      <td>0.011000</td>\n",
              "      <td>0.220000</td>\n",
              "      <td>0.465000</td>\n",
              "      <td>0.732000</td>\n",
              "      <td>0.98800</td>\n",
              "    </tr>\n",
              "    <tr>\n",
              "      <th>pricepercent</th>\n",
              "      <td>85.0</td>\n",
              "      <td>0.468882</td>\n",
              "      <td>0.285740</td>\n",
              "      <td>0.011000</td>\n",
              "      <td>0.255000</td>\n",
              "      <td>0.465000</td>\n",
              "      <td>0.651000</td>\n",
              "      <td>0.97600</td>\n",
              "    </tr>\n",
              "    <tr>\n",
              "      <th>winpercent</th>\n",
              "      <td>85.0</td>\n",
              "      <td>50.316764</td>\n",
              "      <td>14.714357</td>\n",
              "      <td>22.445341</td>\n",
              "      <td>39.141056</td>\n",
              "      <td>47.829754</td>\n",
              "      <td>59.863998</td>\n",
              "      <td>84.18029</td>\n",
              "    </tr>\n",
              "  </tbody>\n",
              "</table>\n",
              "</div>"
            ],
            "text/plain": [
              "                  count       mean        std  ...        50%        75%       max\n",
              "chocolate          85.0   0.435294   0.498738  ...   0.000000   1.000000   1.00000\n",
              "fruity             85.0   0.447059   0.500140  ...   0.000000   1.000000   1.00000\n",
              "caramel            85.0   0.164706   0.373116  ...   0.000000   0.000000   1.00000\n",
              "peanutyalmondy     85.0   0.164706   0.373116  ...   0.000000   0.000000   1.00000\n",
              "nougat             85.0   0.082353   0.276533  ...   0.000000   0.000000   1.00000\n",
              "crispedricewafer   85.0   0.082353   0.276533  ...   0.000000   0.000000   1.00000\n",
              "hard               85.0   0.176471   0.383482  ...   0.000000   0.000000   1.00000\n",
              "bar                85.0   0.247059   0.433861  ...   0.000000   0.000000   1.00000\n",
              "pluribus           85.0   0.517647   0.502654  ...   1.000000   1.000000   1.00000\n",
              "sugarpercent       85.0   0.478647   0.282778  ...   0.465000   0.732000   0.98800\n",
              "pricepercent       85.0   0.468882   0.285740  ...   0.465000   0.651000   0.97600\n",
              "winpercent         85.0  50.316764  14.714357  ...  47.829754  59.863998  84.18029\n",
              "\n",
              "[12 rows x 8 columns]"
            ]
          },
          "metadata": {
            "tags": []
          },
          "execution_count": 7
        }
      ]
    },
    {
      "cell_type": "code",
      "metadata": {
        "colab": {
          "base_uri": "https://localhost:8080/",
          "height": 265
        },
        "id": "5Dmta1gypUBz",
        "outputId": "ff67f8aa-e416-45bd-ea8d-0513e293a939"
      },
      "source": [
        "# Давайте посмотрим 0, 1 количество шоколада в виде батончика\n",
        "candy_data['chocolate'].value_counts().plot.barh();"
      ],
      "execution_count": null,
      "outputs": [
        {
          "output_type": "display_data",
          "data": {
            "image/png": "[encoded data removed]",
            "text/plain": [
              "<Figure size 432x288 with 1 Axes>"
            ]
          },
          "metadata": {
            "tags": [],
            "needs_background": "light"
          }
        }
      ]
    },
    {
      "cell_type": "code",
      "metadata": {
        "id": "5KlvHLjkkbLn"
      },
      "source": [
        "# функция \"competitorname\" нам не нужна, ее отбросим\n",
        "candy_data.drop(\"competitorname\", inplace = True, axis=1)\n",
        "\n",
        "y = candy_data.chocolate.values\n",
        "X = candy_data.drop([\"chocolate\"], axis = 1)"
      ],
      "execution_count": null,
      "outputs": []
    },
    {
      "cell_type": "code",
      "metadata": {
        "colab": {
          "base_uri": "https://localhost:8080/"
        },
        "id": "gN0jp218kbII",
        "outputId": "9cb89af2-4a4c-41ff-df19-6974dbbac0ea"
      },
      "source": [
        "# посмотрим, сколько нулевых значений у нас есть, мб нам не нужно нормализовать\n",
        "\n",
        "candy_data.isnull().sum()"
      ],
      "execution_count": null,
      "outputs": [
        {
          "output_type": "execute_result",
          "data": {
            "text/plain": [
              "chocolate           0\n",
              "fruity              0\n",
              "caramel             0\n",
              "peanutyalmondy      0\n",
              "nougat              0\n",
              "crispedricewafer    0\n",
              "hard                0\n",
              "bar                 0\n",
              "pluribus            0\n",
              "sugarpercent        0\n",
              "pricepercent        0\n",
              "winpercent          0\n",
              "dtype: int64"
            ]
          },
          "metadata": {
            "tags": []
          },
          "execution_count": 10
        }
      ]
    },
    {
      "cell_type": "markdown",
      "metadata": {
        "id": "8e6YzY19Coca"
      },
      "source": [
        "#Логистическая регрессия"
      ]
    },
    {
      "cell_type": "code",
      "metadata": {
        "colab": {
          "base_uri": "https://localhost:8080/"
        },
        "id": "fck4gliPkbFi",
        "outputId": "75a8ad62-ce2b-452a-cc81-20204a77643b"
      },
      "source": [
        "loj = LogisticRegression(solver = \"liblinear\")\n",
        "loj_model = loj.fit(X,y)\n",
        "loj_model"
      ],
      "execution_count": null,
      "outputs": [
        {
          "output_type": "execute_result",
          "data": {
            "text/plain": [
              "LogisticRegression(C=1.0, class_weight=None, dual=False, fit_intercept=True,\n",
              "                   intercept_scaling=1, l1_ratio=None, max_iter=100,\n",
              "                   multi_class='auto', n_jobs=None, penalty='l2',\n",
              "                   random_state=None, solver='liblinear', tol=0.0001, verbose=0,\n",
              "                   warm_start=False)"
            ]
          },
          "metadata": {
            "tags": []
          },
          "execution_count": 11
        }
      ]
    },
    {
      "cell_type": "code",
      "metadata": {
        "colab": {
          "base_uri": "https://localhost:8080/"
        },
        "id": "sQt_Dq1-kbCe",
        "outputId": "8da10d49-5dc7-42ea-9dfb-c00aa95b8a6b"
      },
      "source": [
        "loj_model.intercept_      # константа\n",
        "loj_model.coef_           # независимые"
      ],
      "execution_count": null,
      "outputs": [
        {
          "output_type": "execute_result",
          "data": {
            "text/plain": [
              "array([[-2.52858047, -0.19697876,  0.03940308, -0.16539952,  0.49783674,\n",
              "        -0.47591613,  0.81511886, -0.59971553, -0.2581028 ,  0.3224988 ,\n",
              "         0.05387906]])"
            ]
          },
          "metadata": {
            "tags": []
          },
          "execution_count": 13
        }
      ]
    },
    {
      "cell_type": "code",
      "metadata": {
        "colab": {
          "base_uri": "https://localhost:8080/"
        },
        "id": "i1JLKPTiCx4h",
        "outputId": "e3a98b44-3949-4167-9dee-e23c4ae54d92"
      },
      "source": [
        "y_pred = loj_model.predict(X)        # прогноз\n",
        "confusion_matrix(y, y_pred)          # матрица неточностей"
      ],
      "execution_count": null,
      "outputs": [
        {
          "output_type": "execute_result",
          "data": {
            "text/plain": [
              "array([[45,  3],\n",
              "       [ 2, 35]])"
            ]
          },
          "metadata": {
            "tags": []
          },
          "execution_count": 14
        }
      ]
    },
    {
      "cell_type": "code",
      "metadata": {
        "colab": {
          "base_uri": "https://localhost:8080/"
        },
        "id": "pnRGhyhECx0x",
        "outputId": "2e66399a-f5e8-41c0-9c21-b17749410a71"
      },
      "source": [
        "accuracy_score(y, y_pred)"
      ],
      "execution_count": null,
      "outputs": [
        {
          "output_type": "execute_result",
          "data": {
            "text/plain": [
              "0.9411764705882353"
            ]
          },
          "metadata": {
            "tags": []
          },
          "execution_count": 15
        }
      ]
    },
    {
      "cell_type": "code",
      "metadata": {
        "colab": {
          "base_uri": "https://localhost:8080/"
        },
        "id": "s_l7iV1WCxxu",
        "outputId": "9a42fb53-1c71-4b84-afa2-4f569a1badb2"
      },
      "source": [
        "print(classification_report(y, y_pred))"
      ],
      "execution_count": null,
      "outputs": [
        {
          "output_type": "stream",
          "text": [
            "              precision    recall  f1-score   support\n",
            "\n",
            "           0       0.96      0.94      0.95        48\n",
            "           1       0.92      0.95      0.93        37\n",
            "\n",
            "    accuracy                           0.94        85\n",
            "   macro avg       0.94      0.94      0.94        85\n",
            "weighted avg       0.94      0.94      0.94        85\n",
            "\n"
          ],
          "name": "stdout"
        }
      ]
    },
    {
      "cell_type": "code",
      "metadata": {
        "colab": {
          "base_uri": "https://localhost:8080/"
        },
        "id": "8LxSLlPbCxud",
        "outputId": "4b87677b-7467-4d71-f778-cf39f1d34dc2"
      },
      "source": [
        "# модель прогзноща\n",
        "loj_model.predict(X)[0:20]"
      ],
      "execution_count": null,
      "outputs": [
        {
          "output_type": "execute_result",
          "data": {
            "text/plain": [
              "array([1, 1, 1, 1, 0, 1, 1, 0, 0, 0, 1, 0, 0, 0, 0, 0, 0, 0, 0, 0])"
            ]
          },
          "metadata": {
            "tags": []
          },
          "execution_count": 17
        }
      ]
    },
    {
      "cell_type": "code",
      "metadata": {
        "colab": {
          "base_uri": "https://localhost:8080/"
        },
        "id": "a4xxmJ8dCxry",
        "outputId": "25958bbf-6f8a-4bcd-a43c-c2c281b19449"
      },
      "source": [
        "loj_model.predict_proba(X)[0:10][:,0:2]"
      ],
      "execution_count": null,
      "outputs": [
        {
          "output_type": "execute_result",
          "data": {
            "text/plain": [
              "array([[0.04188007, 0.95811993],\n",
              "       [0.06796361, 0.93203639],\n",
              "       [0.47747468, 0.52252532],\n",
              "       [0.27606479, 0.72393521],\n",
              "       [0.8115512 , 0.1884488 ],\n",
              "       [0.11795563, 0.88204437],\n",
              "       [0.12265733, 0.87734267],\n",
              "       [0.710369  , 0.289631  ],\n",
              "       [0.58985234, 0.41014766],\n",
              "       [0.93082723, 0.06917277]])"
            ]
          },
          "metadata": {
            "tags": []
          },
          "execution_count": 19
        }
      ]
    },
    {
      "cell_type": "code",
      "metadata": {
        "colab": {
          "base_uri": "https://localhost:8080/"
        },
        "id": "ipAFN1vkCxoK",
        "outputId": "69659efc-5792-45ee-82ad-4d7d71f2e23c"
      },
      "source": [
        "# Теперь давайте попробуем смоделировать вероятность \"predict_proba\" \n",
        "\n",
        "y_probs = loj_model.predict_proba(X)\n",
        "y_probs = y_probs[:,1]\n",
        "y_probs[0:20]"
      ],
      "execution_count": null,
      "outputs": [
        {
          "output_type": "execute_result",
          "data": {
            "text/plain": [
              "array([0.95811993, 0.93203639, 0.52252532, 0.72393521, 0.1884488 ,\n",
              "       0.88204437, 0.87734267, 0.289631  , 0.41014766, 0.06917277,\n",
              "       0.74572776, 0.05242911, 0.03240256, 0.07192718, 0.06071258,\n",
              "       0.07508196, 0.06537882, 0.05447884, 0.15402182, 0.39845081])"
            ]
          },
          "metadata": {
            "tags": []
          },
          "execution_count": 22
        }
      ]
    },
    {
      "cell_type": "code",
      "metadata": {
        "id": "tHvz11zJCxlM"
      },
      "source": [
        "# giving limit for values\n",
        "\n",
        "y_pred = [1 if i > 0.5 else 0 for i in y_probs]"
      ],
      "execution_count": null,
      "outputs": []
    },
    {
      "cell_type": "code",
      "metadata": {
        "colab": {
          "base_uri": "https://localhost:8080/"
        },
        "id": "HygfeWozCxiX",
        "outputId": "3a76e788-9b55-4e33-9801-6dcc957be2b9"
      },
      "source": [
        "# и сравним с вышеизложенным, мы сможем увидеть что произошло\n",
        "y_pred[0:20]"
      ],
      "execution_count": null,
      "outputs": [
        {
          "output_type": "execute_result",
          "data": {
            "text/plain": [
              "[1, 1, 1, 1, 0, 1, 1, 0, 0, 0, 1, 0, 0, 0, 0, 0, 0, 0, 0, 0]"
            ]
          },
          "metadata": {
            "tags": []
          },
          "execution_count": 24
        }
      ]
    },
    {
      "cell_type": "code",
      "metadata": {
        "colab": {
          "base_uri": "https://localhost:8080/"
        },
        "id": "KAKAWN01DKgA",
        "outputId": "0d1c5950-1048-4c38-f72c-d7c4dc0d077b"
      },
      "source": [
        "confusion_matrix(y, y_pred)"
      ],
      "execution_count": null,
      "outputs": [
        {
          "output_type": "execute_result",
          "data": {
            "text/plain": [
              "array([[45,  3],\n",
              "       [ 2, 35]])"
            ]
          },
          "metadata": {
            "tags": []
          },
          "execution_count": 25
        }
      ]
    },
    {
      "cell_type": "code",
      "metadata": {
        "colab": {
          "base_uri": "https://localhost:8080/"
        },
        "id": "Hp3cx9RgDKcL",
        "outputId": "fb5d5cc8-f687-4d0b-d565-aa94b3179895"
      },
      "source": [
        "accuracy_score(y, y_pred)"
      ],
      "execution_count": null,
      "outputs": [
        {
          "output_type": "execute_result",
          "data": {
            "text/plain": [
              "0.9411764705882353"
            ]
          },
          "metadata": {
            "tags": []
          },
          "execution_count": 26
        }
      ]
    },
    {
      "cell_type": "code",
      "metadata": {
        "colab": {
          "base_uri": "https://localhost:8080/"
        },
        "id": "MaUaneVdDKW-",
        "outputId": "3f8589b6-3b2e-4238-eb69-1051848257d2"
      },
      "source": [
        "print(classification_report(y, y_pred))"
      ],
      "execution_count": null,
      "outputs": [
        {
          "output_type": "stream",
          "text": [
            "              precision    recall  f1-score   support\n",
            "\n",
            "           0       0.96      0.94      0.95        48\n",
            "           1       0.92      0.95      0.93        37\n",
            "\n",
            "    accuracy                           0.94        85\n",
            "   macro avg       0.94      0.94      0.94        85\n",
            "weighted avg       0.94      0.94      0.94        85\n",
            "\n"
          ],
          "name": "stdout"
        }
      ]
    },
    {
      "cell_type": "code",
      "metadata": {
        "colab": {
          "base_uri": "https://localhost:8080/",
          "height": 295
        },
        "id": "CsP1y_u0DKTd",
        "outputId": "653848a8-6637-4484-e098-18075ffbc5d3"
      },
      "source": [
        "logit_roc_auc = roc_auc_score(y, loj_model.predict(X))\n",
        "\n",
        "fpr, tpr, thresholds = roc_curve(y, loj_model.predict_proba(X)[:,1])\n",
        "plt.figure()\n",
        "plt.plot(fpr, tpr, label='AUC (area = %0.2f)' % logit_roc_auc)\n",
        "plt.plot([0, 1], [0, 1],'r--')\n",
        "plt.xlim([0.0, 1.0])\n",
        "plt.ylim([0.0, 1.05])\n",
        "plt.xlabel('Ложноположительная Оценка')\n",
        "plt.ylabel('Истинная Положительная Оценка')\n",
        "plt.title('ROC')\n",
        "plt.show()\n",
        "\n",
        "# blue line: который мы задаем нашей моделью\n",
        "# red line: если мы этого не сделаем, что может быть в результате"
      ],
      "execution_count": null,
      "outputs": [
        {
          "output_type": "display_data",
          "data": {
            "image/png": "[encoded data removed]",
            "text/plain": [
              "<Figure size 432x288 with 1 Axes>"
            ]
          },
          "metadata": {
            "tags": [],
            "needs_background": "light"
          }
        }
      ]
    },
    {
      "cell_type": "code",
      "metadata": {
        "id": "o4dmxXFmDKPz"
      },
      "source": [
        "X_train, X_test, y_train, y_test = train_test_split(X, y, \n",
        "                                                    test_size = 0.30, \n",
        "                                                    random_state = 42)"
      ],
      "execution_count": null,
      "outputs": []
    },
    {
      "cell_type": "code",
      "metadata": {
        "colab": {
          "base_uri": "https://localhost:8080/"
        },
        "id": "ZU6CBuMFDKND",
        "outputId": "697d2fca-617a-49d5-b70b-a4e390f2a850"
      },
      "source": [
        "loj = LogisticRegression(solver = \"liblinear\")\n",
        "loj_model = loj.fit(X_train,y_train)\n",
        "loj_model"
      ],
      "execution_count": null,
      "outputs": [
        {
          "output_type": "execute_result",
          "data": {
            "text/plain": [
              "LogisticRegression(C=1.0, class_weight=None, dual=False, fit_intercept=True,\n",
              "                   intercept_scaling=1, l1_ratio=None, max_iter=100,\n",
              "                   multi_class='auto', n_jobs=None, penalty='l2',\n",
              "                   random_state=None, solver='liblinear', tol=0.0001, verbose=0,\n",
              "                   warm_start=False)"
            ]
          },
          "metadata": {
            "tags": []
          },
          "execution_count": 30
        }
      ]
    },
    {
      "cell_type": "code",
      "metadata": {
        "colab": {
          "base_uri": "https://localhost:8080/"
        },
        "id": "8Y_3akc8DKJ3",
        "outputId": "5a7bd947-7590-4414-e62e-040f093f238d"
      },
      "source": [
        "accuracy_score(y_test, loj_model.predict(X_test))"
      ],
      "execution_count": null,
      "outputs": [
        {
          "output_type": "execute_result",
          "data": {
            "text/plain": [
              "1.0"
            ]
          },
          "metadata": {
            "tags": []
          },
          "execution_count": 31
        }
      ]
    },
    {
      "cell_type": "code",
      "metadata": {
        "colab": {
          "base_uri": "https://localhost:8080/"
        },
        "id": "7DbJut5gDKGh",
        "outputId": "1eeb9c97-5116-4021-b1d6-389e6d2020e6"
      },
      "source": [
        "# с кросс-валидацией\n",
        "\n",
        "cross_val_score(loj_model, X_test, y_test, cv = 10).mean()"
      ],
      "execution_count": null,
      "outputs": [
        {
          "output_type": "execute_result",
          "data": {
            "text/plain": [
              "1.0"
            ]
          },
          "metadata": {
            "tags": []
          },
          "execution_count": 33
        }
      ]
    },
    {
      "cell_type": "markdown",
      "metadata": {
        "id": "z2XvuR0HDmhd"
      },
      "source": [
        "#Наивный байессовский "
      ]
    },
    {
      "cell_type": "code",
      "metadata": {
        "colab": {
          "base_uri": "https://localhost:8080/"
        },
        "id": "2JQhL30gCxcb",
        "outputId": "f91a52b7-8566-4e8e-c15f-2df799b2acf7"
      },
      "source": [
        "nb = GaussianNB()\n",
        "nb_model = nb.fit(X_train, y_train)\n",
        "nb_model"
      ],
      "execution_count": null,
      "outputs": [
        {
          "output_type": "execute_result",
          "data": {
            "text/plain": [
              "GaussianNB(priors=None, var_smoothing=1e-09)"
            ]
          },
          "metadata": {
            "tags": []
          },
          "execution_count": 34
        }
      ]
    },
    {
      "cell_type": "code",
      "metadata": {
        "colab": {
          "base_uri": "https://localhost:8080/"
        },
        "id": "6AZPsh0sDttV",
        "outputId": "b23879f0-f42b-4ae1-99c8-0b51163d51af"
      },
      "source": [
        "nb_model.predict(X_test)[0:10]"
      ],
      "execution_count": null,
      "outputs": [
        {
          "output_type": "execute_result",
          "data": {
            "text/plain": [
              "array([0, 1, 0, 0, 0, 0, 1, 0, 0, 0])"
            ]
          },
          "metadata": {
            "tags": []
          },
          "execution_count": 35
        }
      ]
    },
    {
      "cell_type": "code",
      "metadata": {
        "colab": {
          "base_uri": "https://localhost:8080/"
        },
        "id": "0hjIsG9RDtpd",
        "outputId": "80150315-64e4-4db5-d1a2-971e90b346af"
      },
      "source": [
        "nb_model.predict_proba(X_test)[0:10]"
      ],
      "execution_count": null,
      "outputs": [
        {
          "output_type": "execute_result",
          "data": {
            "text/plain": [
              "array([[1.00000000e+00, 8.16166501e-11],\n",
              "       [0.00000000e+00, 1.00000000e+00],\n",
              "       [9.99999997e-01, 2.82736615e-09],\n",
              "       [9.99975666e-01, 2.43341023e-05],\n",
              "       [1.00000000e+00, 1.02464777e-11],\n",
              "       [1.00000000e+00, 7.27061697e-11],\n",
              "       [1.28992370e-10, 1.00000000e+00],\n",
              "       [9.99999998e-01, 1.51628998e-09],\n",
              "       [9.99999997e-01, 2.62343656e-09],\n",
              "       [1.00000000e+00, 2.45546990e-10]])"
            ]
          },
          "metadata": {
            "tags": []
          },
          "execution_count": 36
        }
      ]
    },
    {
      "cell_type": "code",
      "metadata": {
        "id": "lp-ooo4eDtmT"
      },
      "source": [
        "# predict\n",
        "y_pred = nb_model.predict(X_test)"
      ],
      "execution_count": null,
      "outputs": []
    },
    {
      "cell_type": "code",
      "metadata": {
        "colab": {
          "base_uri": "https://localhost:8080/"
        },
        "id": "1OkD2LaNDtdH",
        "outputId": "3349f0d9-243e-4a62-a009-ef51df2edbe6"
      },
      "source": [
        "accuracy_score(y_test, y_pred)"
      ],
      "execution_count": null,
      "outputs": [
        {
          "output_type": "execute_result",
          "data": {
            "text/plain": [
              "0.8846153846153846"
            ]
          },
          "metadata": {
            "tags": []
          },
          "execution_count": 38
        }
      ]
    },
    {
      "cell_type": "code",
      "metadata": {
        "colab": {
          "base_uri": "https://localhost:8080/"
        },
        "id": "BcJeMm-OCxZr",
        "outputId": "1ef4b0c0-8c80-47dd-e49d-75a9408beacb"
      },
      "source": [
        "cross_val_score(nb_model, X_test, y_test, cv = 10).mean()"
      ],
      "execution_count": null,
      "outputs": [
        {
          "output_type": "execute_result",
          "data": {
            "text/plain": [
              "1.0"
            ]
          },
          "metadata": {
            "tags": []
          },
          "execution_count": 39
        }
      ]
    }
  ]
}